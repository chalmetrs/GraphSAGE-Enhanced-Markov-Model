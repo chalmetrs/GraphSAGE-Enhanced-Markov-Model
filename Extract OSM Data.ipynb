{
 "cells": [
  {
   "cell_type": "markdown",
   "metadata": {},
   "source": [
    "## **Extracting OSM Data**\n",
    "\n",
    "Projected grid: *British National Grid epsg:27700*\n",
    "+ trees\n",
    "+ memorials"
   ]
  },
  {
   "cell_type": "code",
   "execution_count": 15,
   "metadata": {},
   "outputs": [
    {
     "name": "stdout",
     "output_type": "stream",
     "text": [
      "Requirement already satisfied: osmnx in c:\\users\\chalm\\anaconda3\\lib\\site-packages (2.0.2)\n",
      "Requirement already satisfied: geopandas>=1.0 in c:\\users\\chalm\\anaconda3\\lib\\site-packages (from osmnx) (1.0.1)\n",
      "Requirement already satisfied: networkx>=2.5 in c:\\users\\chalm\\anaconda3\\lib\\site-packages (from osmnx) (3.3)\n",
      "Requirement already satisfied: numpy>=1.22 in c:\\users\\chalm\\anaconda3\\lib\\site-packages (from osmnx) (1.26.4)\n",
      "Requirement already satisfied: pandas>=1.4 in c:\\users\\chalm\\anaconda3\\lib\\site-packages (from osmnx) (2.2.2)\n",
      "Requirement already satisfied: requests>=2.27 in c:\\users\\chalm\\anaconda3\\lib\\site-packages (from osmnx) (2.32.3)\n",
      "Requirement already satisfied: shapely>=2.0 in c:\\users\\chalm\\anaconda3\\lib\\site-packages (from osmnx) (2.0.7)\n",
      "Requirement already satisfied: pyogrio>=0.7.2 in c:\\users\\chalm\\anaconda3\\lib\\site-packages (from geopandas>=1.0->osmnx) (0.10.0)\n",
      "Requirement already satisfied: packaging in c:\\users\\chalm\\anaconda3\\lib\\site-packages (from geopandas>=1.0->osmnx) (24.1)\n",
      "Requirement already satisfied: pyproj>=3.3.0 in c:\\users\\chalm\\anaconda3\\lib\\site-packages (from geopandas>=1.0->osmnx) (3.7.1)\n",
      "Requirement already satisfied: python-dateutil>=2.8.2 in c:\\users\\chalm\\anaconda3\\lib\\site-packages (from pandas>=1.4->osmnx) (2.9.0.post0)\n",
      "Requirement already satisfied: pytz>=2020.1 in c:\\users\\chalm\\anaconda3\\lib\\site-packages (from pandas>=1.4->osmnx) (2024.1)\n",
      "Requirement already satisfied: tzdata>=2022.7 in c:\\users\\chalm\\anaconda3\\lib\\site-packages (from pandas>=1.4->osmnx) (2023.3)\n",
      "Requirement already satisfied: charset-normalizer<4,>=2 in c:\\users\\chalm\\anaconda3\\lib\\site-packages (from requests>=2.27->osmnx) (3.3.2)\n",
      "Requirement already satisfied: idna<4,>=2.5 in c:\\users\\chalm\\anaconda3\\lib\\site-packages (from requests>=2.27->osmnx) (3.7)\n",
      "Requirement already satisfied: urllib3<3,>=1.21.1 in c:\\users\\chalm\\anaconda3\\lib\\site-packages (from requests>=2.27->osmnx) (2.2.3)\n",
      "Requirement already satisfied: certifi>=2017.4.17 in c:\\users\\chalm\\anaconda3\\lib\\site-packages (from requests>=2.27->osmnx) (2025.1.31)\n",
      "Requirement already satisfied: six>=1.5 in c:\\users\\chalm\\anaconda3\\lib\\site-packages (from python-dateutil>=2.8.2->pandas>=1.4->osmnx) (1.16.0)\n",
      "Note: you may need to restart the kernel to use updated packages.\n"
     ]
    }
   ],
   "source": [
    "%pip install osmnx"
   ]
  },
  {
   "cell_type": "code",
   "execution_count": 42,
   "metadata": {},
   "outputs": [],
   "source": [
    "import osmnx as ox\n",
    "import pandas as pd\n",
    "import geopandas as gpd\n",
    "import matplotlib.pyplot as plt\n",
    "import matplotlib as mpl"
   ]
  },
  {
   "cell_type": "code",
   "execution_count": 43,
   "metadata": {},
   "outputs": [],
   "source": [
    "import os\n",
    "\n",
    "os.chdir('c:/Users/chalm/Documents/Sem 2/Computational Intelligence/datasets')"
   ]
  },
  {
   "cell_type": "code",
   "execution_count": 44,
   "metadata": {},
   "outputs": [],
   "source": [
    "# select location\n",
    "place_name = \"cambridge\""
   ]
  },
  {
   "cell_type": "markdown",
   "metadata": {},
   "source": [
    "### **2. Get Memorials**"
   ]
  },
  {
   "cell_type": "code",
   "execution_count": 45,
   "metadata": {},
   "outputs": [],
   "source": [
    "tags = {\"historic\": \"memorial\"}\n",
    "memorials = ox.features_from_place(place_name, tags=tags)\n",
    "\n",
    "memorials = memorials.to_crs(epsg=27700)"
   ]
  },
  {
   "cell_type": "code",
   "execution_count": 46,
   "metadata": {},
   "outputs": [],
   "source": [
    "memorials[\"geometry\"] = memorials.geometry.centroid\n",
    "\n",
    "memorials[\"Easting\"] = memorials.geometry.x\n",
    "memorials[\"Northing\"] = memorials.geometry.y\n",
    "\n",
    "memorials_clean = memorials[[\"Easting\", \"Northing\"]]\n",
    "memorials_clean.head()\n",
    "memorials_clean.to_csv(f\"{place_name}_memorials.csv\", index=False)"
   ]
  },
  {
   "cell_type": "code",
   "execution_count": 47,
   "metadata": {},
   "outputs": [
    {
     "data": {
      "text/html": [
       "<div>\n",
       "<style scoped>\n",
       "    .dataframe tbody tr th:only-of-type {\n",
       "        vertical-align: middle;\n",
       "    }\n",
       "\n",
       "    .dataframe tbody tr th {\n",
       "        vertical-align: top;\n",
       "    }\n",
       "\n",
       "    .dataframe thead th {\n",
       "        text-align: right;\n",
       "    }\n",
       "</style>\n",
       "<table border=\"1\" class=\"dataframe\">\n",
       "  <thead>\n",
       "    <tr style=\"text-align: right;\">\n",
       "      <th></th>\n",
       "      <th></th>\n",
       "      <th>Easting</th>\n",
       "      <th>Northing</th>\n",
       "    </tr>\n",
       "    <tr>\n",
       "      <th>element</th>\n",
       "      <th>id</th>\n",
       "      <th></th>\n",
       "      <th></th>\n",
       "    </tr>\n",
       "  </thead>\n",
       "  <tbody>\n",
       "    <tr>\n",
       "      <th rowspan=\"5\" valign=\"top\">node</th>\n",
       "      <th>20922112</th>\n",
       "      <td>544793.274285</td>\n",
       "      <td>258262.288496</td>\n",
       "    </tr>\n",
       "    <tr>\n",
       "      <th>298290470</th>\n",
       "      <td>546598.566101</td>\n",
       "      <td>259034.603440</td>\n",
       "    </tr>\n",
       "    <tr>\n",
       "      <th>298888663</th>\n",
       "      <td>545749.315274</td>\n",
       "      <td>257342.985915</td>\n",
       "    </tr>\n",
       "    <tr>\n",
       "      <th>299607154</th>\n",
       "      <td>545233.785684</td>\n",
       "      <td>259458.365577</td>\n",
       "    </tr>\n",
       "    <tr>\n",
       "      <th>370165819</th>\n",
       "      <td>544555.437567</td>\n",
       "      <td>255122.598271</td>\n",
       "    </tr>\n",
       "  </tbody>\n",
       "</table>\n",
       "</div>"
      ],
      "text/plain": [
       "                         Easting       Northing\n",
       "element id                                     \n",
       "node    20922112   544793.274285  258262.288496\n",
       "        298290470  546598.566101  259034.603440\n",
       "        298888663  545749.315274  257342.985915\n",
       "        299607154  545233.785684  259458.365577\n",
       "        370165819  544555.437567  255122.598271"
      ]
     },
     "execution_count": 47,
     "metadata": {},
     "output_type": "execute_result"
    }
   ],
   "source": [
    "memorials_clean.head()"
   ]
  },
  {
   "cell_type": "code",
   "execution_count": 48,
   "metadata": {},
   "outputs": [
    {
     "data": {
      "image/png": "[encoded data removed]",
      "text/plain": [
       "<Figure size 800x800 with 1 Axes>"
      ]
     },
     "metadata": {},
     "output_type": "display_data"
    }
   ],
   "source": [
    "from shapely.geometry import Point\n",
    "\n",
    "# Convert to GeoDataFrame\n",
    "geometry = [Point(xy) for xy in zip(memorials_clean[\"Easting\"], memorials_clean[\"Northing\"])]\n",
    "memorials_gdf = gpd.GeoDataFrame(memorials_clean, geometry=geometry, crs=\"EPSG:27700\")\n",
    "\n",
    "# Plot\n",
    "fig, ax = plt.subplots(figsize=(8, 8))\n",
    "memorials_gdf.plot(ax=ax, color='red', markersize=50)\n",
    "\n",
    "ax.set_title(f\"Memorials in {place_name}\")\n",
    "ax.set_axis_off()\n",
    "plt.show()"
   ]
  },
  {
   "cell_type": "markdown",
   "metadata": {},
   "source": [
    "### **3. Get trees**"
   ]
  },
  {
   "cell_type": "code",
   "execution_count": 49,
   "metadata": {},
   "outputs": [],
   "source": [
    "tags = {\"natural\": \"tree\"}\n",
    "\n",
    "# Step 2: Retrieve tree data (point features only)\n",
    "trees = ox.features_from_place(place_name, tags)\n",
    "\n",
    "trees = trees.to_crs(epsg=27700)"
   ]
  },
  {
   "cell_type": "code",
   "execution_count": 50,
   "metadata": {},
   "outputs": [],
   "source": [
    "trees[\"geometry\"] = trees.geometry.centroid\n",
    "\n",
    "trees[\"Easting\"] = trees.geometry.x\n",
    "trees[\"Northing\"] = trees.geometry.y\n",
    "gdf_trees_clean = trees[[\"Easting\", \"Northing\"]]\n",
    "gdf_trees_clean.to_csv(f\"{place_name}_trees.csv\", index=False)"
   ]
  },
  {
   "cell_type": "code",
   "execution_count": 51,
   "metadata": {},
   "outputs": [
    {
     "data": {
      "text/html": [
       "<div>\n",
       "<style scoped>\n",
       "    .dataframe tbody tr th:only-of-type {\n",
       "        vertical-align: middle;\n",
       "    }\n",
       "\n",
       "    .dataframe tbody tr th {\n",
       "        vertical-align: top;\n",
       "    }\n",
       "\n",
       "    .dataframe thead th {\n",
       "        text-align: right;\n",
       "    }\n",
       "</style>\n",
       "<table border=\"1\" class=\"dataframe\">\n",
       "  <thead>\n",
       "    <tr style=\"text-align: right;\">\n",
       "      <th></th>\n",
       "      <th></th>\n",
       "      <th>Easting</th>\n",
       "      <th>Northing</th>\n",
       "    </tr>\n",
       "    <tr>\n",
       "      <th>element</th>\n",
       "      <th>id</th>\n",
       "      <th></th>\n",
       "      <th></th>\n",
       "    </tr>\n",
       "  </thead>\n",
       "  <tbody>\n",
       "    <tr>\n",
       "      <th rowspan=\"5\" valign=\"top\">node</th>\n",
       "      <th>287490391</th>\n",
       "      <td>544586.247669</td>\n",
       "      <td>258274.632982</td>\n",
       "    </tr>\n",
       "    <tr>\n",
       "      <th>287490542</th>\n",
       "      <td>544592.502408</td>\n",
       "      <td>258248.936829</td>\n",
       "    </tr>\n",
       "    <tr>\n",
       "      <th>289809096</th>\n",
       "      <td>544429.767423</td>\n",
       "      <td>258612.235799</td>\n",
       "    </tr>\n",
       "    <tr>\n",
       "      <th>289809100</th>\n",
       "      <td>544523.841776</td>\n",
       "      <td>258605.172116</td>\n",
       "    </tr>\n",
       "    <tr>\n",
       "      <th>442330206</th>\n",
       "      <td>543793.801046</td>\n",
       "      <td>258936.552262</td>\n",
       "    </tr>\n",
       "  </tbody>\n",
       "</table>\n",
       "</div>"
      ],
      "text/plain": [
       "                         Easting       Northing\n",
       "element id                                     \n",
       "node    287490391  544586.247669  258274.632982\n",
       "        287490542  544592.502408  258248.936829\n",
       "        289809096  544429.767423  258612.235799\n",
       "        289809100  544523.841776  258605.172116\n",
       "        442330206  543793.801046  258936.552262"
      ]
     },
     "execution_count": 51,
     "metadata": {},
     "output_type": "execute_result"
    }
   ],
   "source": [
    "gdf_trees_clean.head()"
   ]
  },
  {
   "cell_type": "code",
   "execution_count": 52,
   "metadata": {},
   "outputs": [
    {
     "data": {
      "image/png": "[encoded data removed]",
      "text/plain": [
       "<Figure size 800x800 with 1 Axes>"
      ]
     },
     "metadata": {},
     "output_type": "display_data"
    }
   ],
   "source": [
    "from shapely.geometry import Point\n",
    "\n",
    "# Convert to GeoDataFrame\n",
    "geometry = [Point(xy) for xy in zip(gdf_trees_clean[\"Easting\"], gdf_trees_clean[\"Northing\"])]\n",
    "trees_gdf = gpd.GeoDataFrame(gdf_trees_clean, geometry=geometry, crs=\"EPSG:27700\")\n",
    "\n",
    "# Plot\n",
    "fig, ax = plt.subplots(figsize=(8, 8))\n",
    "memorials_gdf.plot(ax=ax, color='red', markersize=5)\n",
    "trees_gdf.plot(ax=ax, color='green', markersize=1)\n",
    "\n",
    "ax.set_title(f\"Memorials & trees in {place_name}\")\n",
    "ax.set_axis_off()\n",
    "plt.show()"
   ]
  },
  {
   "cell_type": "markdown",
   "metadata": {},
   "source": [
    "### **3. Check Road Network**\n",
    "(optional, checking if got correct area)"
   ]
  },
  {
   "cell_type": "code",
   "execution_count": 53,
   "metadata": {},
   "outputs": [],
   "source": [
    "# # Get road network for the specified place\n",
    "# road_network = ox.graph_from_place(place_name, network_type='all')\n"
   ]
  },
  {
   "cell_type": "code",
   "execution_count": 54,
   "metadata": {},
   "outputs": [],
   "source": [
    "# fig, ax = plt.subplots(figsize=(10, 10))\n",
    "\n",
    "# road_network_proj = ox.project_graph(road_network)\n",
    "# # plot the road network\n",
    "# ox.plot_graph(road_network_proj, ax=ax, node_size=0, edge_color='black', edge_linewidth=0.3)\n",
    "# # add title and remove axis\n",
    "# ax.set_title(f\"Road Network of {place_name}\", fontsize=15)\n",
    "# ax.axis('off')"
   ]
  }
 ],
 "metadata": {
  "kernelspec": {
   "display_name": "base",
   "language": "python",
   "name": "python3"
  },
  "language_info": {
   "codemirror_mode": {
    "name": "ipython",
    "version": 3
   },
   "file_extension": ".py",
   "mimetype": "text/x-python",
   "name": "python",
   "nbconvert_exporter": "python",
   "pygments_lexer": "ipython3",
   "version": "3.12.7"
  }
 },
 "nbformat": 4,
 "nbformat_minor": 2
}
